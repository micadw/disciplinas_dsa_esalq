{
  "nbformat": 4,
  "nbformat_minor": 0,
  "metadata": {
    "colab": {
      "provenance": []
    },
    "kernelspec": {
      "name": "python3",
      "display_name": "Python 3"
    },
    "language_info": {
      "name": "python"
    }
  },
  "cells": [
    {
      "cell_type": "markdown",
      "source": [
        "# Aula 1 - Rede Neural Artificial sem pacotes"
      ],
      "metadata": {
        "id": "B1dGf1PXVo2I"
      }
    },
    {
      "cell_type": "markdown",
      "source": [
        "### Classe que permite a criação da rede"
      ],
      "metadata": {
        "id": "LCYWCu3OW5gy"
      }
    },
    {
      "cell_type": "markdown",
      "source": [
        "Nesta aula, vamos explorar o funcionamento básico de uma Rede Neural Artificial (RNA) implementando uma do zero, sem utilizar pacotes prontos como TensorFlow ou PyTorch. Isso permitirá que você entenda o que acontece internamente em uma rede neural e os cálculos que ela realiza para ajustar pesos e gerar previsões."
      ],
      "metadata": {
        "id": "NHUvpXUjCBlZ"
      }
    },
    {
      "cell_type": "markdown",
      "source": [
        "Pacotes"
      ],
      "metadata": {
        "id": "l3LzUkmHXCrW"
      }
    },
    {
      "cell_type": "code",
      "source": [
        "import numpy as np\n",
        "import pandas as pd\n",
        "import matplotlib.pyplot as plt\n",
        "from sklearn.model_selection import train_test_split"
      ],
      "metadata": {
        "id": "p-jQaaq5OyYv"
      },
      "execution_count": 1,
      "outputs": []
    },
    {
      "cell_type": "markdown",
      "source": [
        "# Parte 1 - Parâmetros básicos"
      ],
      "metadata": {
        "id": "ENyDkGAjO2uo"
      }
    },
    {
      "cell_type": "markdown",
      "source": [
        "Definimos um valor de seed (np.random.seed(0)) para garantir a reprodutibilidade dos resultados. Isso assegura que o processo de inicialização de pesos e a divisão de dados ocorra da mesma forma a cada execução, essencial para depuração e análise de desempenho."
      ],
      "metadata": {
        "id": "QFNjgF-4DyDF"
      }
    },
    {
      "cell_type": "code",
      "source": [
        "# Garante que os resultados sejam reproduzíveis. Trata-se do valor utilizado para iniciar operações randômicas.\n",
        "np.random.seed(0)"
      ],
      "metadata": {
        "id": "zmSPDTP-O0IT"
      },
      "execution_count": 2,
      "outputs": []
    },
    {
      "cell_type": "markdown",
      "source": [
        "# Parte 2 - Preparação dos Dados"
      ],
      "metadata": {
        "id": "3C2EX8zaO58D"
      }
    },
    {
      "cell_type": "markdown",
      "source": [
        "Carregamos os dados e realizamos algumas operações para preparar o conjunto de entrada e saída da rede neural:\n",
        "\n",
        "**Carregamento do Dataset**: Utilizamos pd.read_csv(\"winequality-red.csv\") para ler o arquivo CSV de dados. É importante garantir que o arquivo esteja formatado corretamente para evitar problemas de leitura e análise.\n",
        "\n",
        "**Definição de Entradas e Saídas (X e Y)**: Definimos x como as primeiras 11 colunas, que contêm as variáveis preditoras, e y como a coluna de destino (qualidade do vinho).\n",
        "\n",
        "**Normalização**: Aplicamos normalização min-max a cada coluna do conjunto de dados de entrada x, convertendo os valores para a faixa entre 0 e 1. Isso facilita o aprendizado da rede, evitando que valores muito altos dominem as operações de peso.\n",
        "\n",
        "**Divisão do Dataset**: Dividimos o conjunto de dados em x_train, x_test, y_train e y_test usando train_test_split, com 20% dos dados reservados para teste."
      ],
      "metadata": {
        "id": "oKas0hyGCOVj"
      }
    },
    {
      "cell_type": "code",
      "source": [
        "# Lê nossos dados de vinho\n",
        "data = pd.read_csv(\"winequality-red.csv\")\n",
        "\n",
        "# X e Y\n",
        "x = data.iloc[:, 0:11]\n",
        "y = data.iloc[:, 11]\n",
        "\n",
        "\n",
        "# Função para normalização min-max\n",
        "def min_max_normalization(column):\n",
        "    min_val = column.min()\n",
        "    max_val = column.max()\n",
        "    normalized_column = (column - min_val) / (max_val - min_val)\n",
        "    return normalized_column\n",
        "\n",
        "\n",
        "# Normalizar todas as colunas do DataFrame\n",
        "x = x.apply(min_max_normalization)\n",
        "\n",
        "y = min_max_normalization(y)\n",
        "\n",
        "# Train Test Split\n",
        "x_train, x_test, y_train, y_test = train_test_split(x, y, test_size=0.20)\n"
      ],
      "metadata": {
        "id": "H7Pbf-A7O8X4"
      },
      "execution_count": 3,
      "outputs": []
    },
    {
      "cell_type": "markdown",
      "source": [
        "Definimos os tamanhos das camadas da rede:\n",
        "\n",
        "**input_size**: Define o número de neurônios na camada de entrada, igual ao número de colunas em x_train.\n",
        "\n",
        "**hidden_size**: Número de neurônios na camada oculta, determinado aqui como 4. Isso pode ser ajustado dependendo da complexidade do modelo e dos dados.\n",
        "\n",
        "**output_size**: Número de neurônios na camada de saída, que é 1, pois estamos tentando prever a qualidade do vinho."
      ],
      "metadata": {
        "id": "qTL8StZDEDRh"
      }
    },
    {
      "cell_type": "code",
      "source": [
        "# Parâmetros da rede neural\n",
        "input_size = x_train.shape[1]\n",
        "hidden_size = 4\n",
        "output_size = 1"
      ],
      "metadata": {
        "id": "KnuDtz2ZH2ps"
      },
      "execution_count": 4,
      "outputs": []
    },
    {
      "cell_type": "code",
      "source": [
        "input_size"
      ],
      "metadata": {
        "colab": {
          "base_uri": "https://localhost:8080/"
        },
        "id": "WRCQeubTYWiC",
        "outputId": "838f4d10-7641-4c90-ffe2-22b6e32e88da"
      },
      "execution_count": 5,
      "outputs": [
        {
          "output_type": "execute_result",
          "data": {
            "text/plain": [
              "11"
            ]
          },
          "metadata": {},
          "execution_count": 5
        }
      ]
    },
    {
      "cell_type": "markdown",
      "source": [
        "# Parte 3 - Inicializa Parâmetros randomicamente"
      ],
      "metadata": {
        "id": "46cxGfw6QMkc"
      }
    },
    {
      "cell_type": "markdown",
      "source": [
        "Nesta etapa, inicializamos os pesos da rede neural aleatoriamente:\n",
        "\n",
        "Função **initialize_parameters**: Define os pesos da camada de entrada para a camada oculta (weights_input_hidden) e da camada oculta para a camada de saída (weights_hidden_output). Pesos aleatórios ajudam a evitar simetrias e facilitam a convergência."
      ],
      "metadata": {
        "id": "1u1O-KlDEMrN"
      }
    },
    {
      "cell_type": "code",
      "source": [
        "def initialize_parameters(input_size, hidden_size, output_size):\n",
        "    np.random.seed(0)\n",
        "    weights_input_hidden = np.random.randn(input_size, hidden_size)\n",
        "    weights_hidden_output = np.random.randn(hidden_size, output_size)\n",
        "    return weights_input_hidden, weights_hidden_output"
      ],
      "metadata": {
        "id": "L5aeYO0bQPU2"
      },
      "execution_count": 6,
      "outputs": []
    },
    {
      "cell_type": "code",
      "source": [
        "weights_input_hidden, weights_hidden_output =  initialize_parameters(input_size, hidden_size, output_size)"
      ],
      "metadata": {
        "id": "V1NkSrkQHkZ9"
      },
      "execution_count": 7,
      "outputs": []
    },
    {
      "cell_type": "markdown",
      "source": [
        "# Parte 4 - Função Sigmoide"
      ],
      "metadata": {
        "id": "Y7c0waIPRsHN"
      }
    },
    {
      "cell_type": "markdown",
      "source": [
        "A função sigmoide é aplicada para transformar as saídas dos neurônios:\n",
        "\n",
        "**sigmoid**: Função de ativação que aplica uma transformação para produzir uma saída entre 0 e 1.\n",
        "\n",
        "**sigmoid_derivative**: Função derivada da sigmoide, usada durante o cálculo da retropropagação para ajustar os pesos."
      ],
      "metadata": {
        "id": "e6XWX9hUET0G"
      }
    },
    {
      "cell_type": "code",
      "source": [
        "def sigmoid(x):\n",
        "    return 1 / (1 + np.exp(-x))\n",
        "\n",
        "def sigmoid_derivative(x):\n",
        "    return x * (1 - x)"
      ],
      "metadata": {
        "id": "RrcG56nvRucd"
      },
      "execution_count": 8,
      "outputs": []
    },
    {
      "cell_type": "markdown",
      "source": [
        "# Parte 5 - Forward Propagation"
      ],
      "metadata": {
        "id": "toevu8CuR9OF"
      }
    },
    {
      "cell_type": "markdown",
      "source": [
        "Realizamos a propagação direta para calcular as previsões da rede neural:\n",
        "\n",
        "Função **forward_pass**: Multiplicamos a entrada pela matriz de pesos de entrada para camada oculta e aplicamos a função de ativação sigmoide. A saída é então multiplicada pela matriz de pesos da camada oculta para a saída, resultando na previsão final.\n",
        "\n",
        "Essa etapa gera o output, a previsão da rede para cada exemplo de treinamento."
      ],
      "metadata": {
        "id": "X6gcv9UGEYJo"
      }
    },
    {
      "cell_type": "code",
      "source": [
        "def forward_pass(inputs, weights_input_hidden, weights_hidden_output):\n",
        "    hidden_layer_input = np.dot(inputs, weights_input_hidden)\n",
        "    hidden_layer_output = sigmoid(hidden_layer_input)\n",
        "\n",
        "    output_layer_input = np.dot(hidden_layer_output, weights_hidden_output)\n",
        "    output = sigmoid(output_layer_input)\n",
        "\n",
        "    return output, hidden_layer_output"
      ],
      "metadata": {
        "id": "SN90WsTYR__l"
      },
      "execution_count": 9,
      "outputs": []
    },
    {
      "cell_type": "code",
      "source": [
        "output, hidden_output = forward_pass(x_train,weights_input_hidden, weights_hidden_output)"
      ],
      "metadata": {
        "id": "h7BVCZ6mLY86"
      },
      "execution_count": 10,
      "outputs": []
    },
    {
      "cell_type": "markdown",
      "source": [
        "# Parte 6 - Backpropagation"
      ],
      "metadata": {
        "id": "5xT1KbDDScue"
      }
    },
    {
      "cell_type": "markdown",
      "source": [
        "Nesta etapa, ajustamos os pesos com base no erro da previsão:\n",
        "\n",
        "**Erro de Saída**: Calculado como a diferença entre a previsão (output) e o valor real (targets).\n",
        "\n",
        "**Gradientes**: Calculamos os gradientes para ajustar os pesos usando as derivadas da função de ativação. output_delta ajusta a camada de saída, enquanto hidden_delta ajusta a camada oculta.\n",
        "\n",
        "**Atualização dos Pesos**: Calculamos os gradientes para os pesos entre as camadas de entrada e oculta, e entre as camadas oculta e de saída. Esses gradientes são ajustados de acordo com a taxa de aprendizado (learning_rate)."
      ],
      "metadata": {
        "id": "cZaAWFVbEeCD"
      }
    },
    {
      "cell_type": "code",
      "source": [
        "def backward_pass(inputs, targets, output, hidden_output, weights_input_hidden, weights_hidden_output,\n",
        "                  learning_rate):\n",
        "    output_error = targets - output\n",
        "    output_delta = output_error * sigmoid_derivative(output)\n",
        "\n",
        "    hidden_error = np.dot(output_delta, weights_hidden_output.T)\n",
        "    hidden_delta = hidden_error * sigmoid_derivative(hidden_output)\n",
        "\n",
        "    weights_input_hidden_grad = np.dot(inputs.T, hidden_delta) * learning_rate\n",
        "    weights_hidden_output_grad = np.dot(hidden_output.T, output_delta) * learning_rate\n",
        "\n",
        "    return weights_input_hidden_grad, weights_hidden_output_grad\n"
      ],
      "metadata": {
        "id": "b3fb7LTfShev"
      },
      "execution_count": 11,
      "outputs": []
    },
    {
      "cell_type": "code",
      "source": [
        "y_train.shape\n",
        "\n"
      ],
      "metadata": {
        "colab": {
          "base_uri": "https://localhost:8080/"
        },
        "id": "Wgdr6zm2Wrwb",
        "outputId": "9365936b-ade3-47d2-9831-57baf4a41ed1"
      },
      "execution_count": 12,
      "outputs": [
        {
          "output_type": "execute_result",
          "data": {
            "text/plain": [
              "(1279,)"
            ]
          },
          "metadata": {},
          "execution_count": 12
        }
      ]
    },
    {
      "cell_type": "code",
      "source": [
        "# Nova rede\n",
        "learning_rate = 0.01\n",
        "\n",
        "weights_input_hidden_grad, weights_hidden_output_grad =  backward_pass(x_train, y_train.to_numpy().reshape(-1, 1), output, hidden_output, weights_input_hidden, weights_hidden_output,learning_rate)"
      ],
      "metadata": {
        "id": "zyBn7O-AQCfd"
      },
      "execution_count": 13,
      "outputs": []
    },
    {
      "cell_type": "code",
      "source": [
        "weights_input_hidden_grad"
      ],
      "metadata": {
        "colab": {
          "base_uri": "https://localhost:8080/"
        },
        "id": "eHLmJShBXOU0",
        "outputId": "168cfb3d-dc20-4ff8-c8a9-69ec1922825f"
      },
      "execution_count": 14,
      "outputs": [
        {
          "output_type": "execute_result",
          "data": {
            "text/plain": [
              "array([[-0.01355822, -0.01890645, -0.05582903,  0.01543676],\n",
              "       [-0.0098772 , -0.01219036, -0.0372528 ,  0.01349915],\n",
              "       [-0.01230602, -0.01665081, -0.04911258,  0.0123021 ],\n",
              "       [-0.00455585, -0.00601904, -0.01786188,  0.00562977],\n",
              "       [-0.00469891, -0.00628142, -0.01871869,  0.00629653],\n",
              "       [-0.00944996, -0.01041949, -0.03173739,  0.01168193],\n",
              "       [-0.00545352, -0.00658387, -0.02021572,  0.0075366 ],\n",
              "       [-0.01885934, -0.02553933, -0.07570145,  0.02398096],\n",
              "       [-0.01910817, -0.02141004, -0.06646448,  0.0229312 ],\n",
              "       [-0.00903952, -0.01131357, -0.0343927 ,  0.01080971],\n",
              "       [-0.01600269, -0.01711152, -0.05407832,  0.01563747]])"
            ]
          },
          "metadata": {},
          "execution_count": 14
        }
      ]
    },
    {
      "cell_type": "code",
      "source": [
        "weights_input_hidden"
      ],
      "metadata": {
        "colab": {
          "base_uri": "https://localhost:8080/"
        },
        "id": "NAhGU8B3XRVV",
        "outputId": "b832d545-07a3-4478-9cf0-c256a3f0b415"
      },
      "execution_count": null,
      "outputs": [
        {
          "output_type": "execute_result",
          "data": {
            "text/plain": [
              "array([[ 1.76405235,  0.40015721,  0.97873798,  2.2408932 ],\n",
              "       [ 1.86755799, -0.97727788,  0.95008842, -0.15135721],\n",
              "       [-0.10321885,  0.4105985 ,  0.14404357,  1.45427351],\n",
              "       [ 0.76103773,  0.12167502,  0.44386323,  0.33367433],\n",
              "       [ 1.49407907, -0.20515826,  0.3130677 , -0.85409574],\n",
              "       [-2.55298982,  0.6536186 ,  0.8644362 , -0.74216502],\n",
              "       [ 2.26975462, -1.45436567,  0.04575852, -0.18718385],\n",
              "       [ 1.53277921,  1.46935877,  0.15494743,  0.37816252],\n",
              "       [-0.88778575, -1.98079647, -0.34791215,  0.15634897],\n",
              "       [ 1.23029068,  1.20237985, -0.38732682, -0.30230275],\n",
              "       [-1.04855297, -1.42001794, -1.70627019,  1.9507754 ]])"
            ]
          },
          "metadata": {},
          "execution_count": 15
        }
      ]
    },
    {
      "cell_type": "markdown",
      "source": [
        "# Parte 7 - Treina Modelo"
      ],
      "metadata": {
        "id": "TAgd8LYDVyxB"
      }
    },
    {
      "cell_type": "markdown",
      "source": [
        "Usamos o processo de propagação direta e retropropagação repetidamente para treinar a rede neural:\n",
        "\n",
        "**Função train_neural_network**: Realiza a propagação direta e a retropropagação em cada época. Calculamos a perda e a acurácia em cada época, permitindo observar o desempenho ao longo do tempo.\n",
        "\n",
        "**Epochs e Aprendizado**: Definimos o número de épocas (iterações) e a taxa de aprendizado. No treinamento, os pesos são atualizados em cada época, reduzindo o erro.\n",
        "\n",
        "**Visualização de Perda**: Armazenamos e imprimimos a perda em épocas específicas para acompanhar a performance."
      ],
      "metadata": {
        "id": "1JPhw0elEnUi"
      }
    },
    {
      "cell_type": "code",
      "source": [
        "\n",
        "def train_neural_network(x_train, y_train, input_size, hidden_size, output_size, epochs, learning_rate):\n",
        "    weights_input_hidden, weights_hidden_output = initialize_parameters(input_size, hidden_size, output_size)\n",
        "\n",
        "    # Listas para armazenar a perda e a acurácia em cada época\n",
        "    losses = []\n",
        "\n",
        "    for epoch in range(epochs):\n",
        "        output, hidden_output = forward_pass(x_train, weights_input_hidden, weights_hidden_output)\n",
        "        weights_input_hidden_grad, weights_hidden_output_grad = \\\n",
        "            backward_pass(x_train, y_train, output, hidden_output, weights_input_hidden,\n",
        "                          weights_hidden_output, learning_rate)\n",
        "\n",
        "        # Atualização dos pesos\n",
        "        weights_input_hidden += weights_input_hidden_grad\n",
        "        weights_hidden_output += weights_hidden_output_grad\n",
        "\n",
        "        # Calcular e armazenar a perda e a acurácia em cada época\n",
        "        loss = np.mean(np.square(y_train - output))\n",
        "        losses.append(loss)\n",
        "\n",
        "        if epoch % 1000 == 0:\n",
        "            print(f\"Epoch {epoch}: Loss = {loss}\")\n",
        "\n",
        "    return losses, output"
      ],
      "metadata": {
        "id": "l1jXabZFVyNo"
      },
      "execution_count": 15,
      "outputs": []
    },
    {
      "cell_type": "code",
      "source": [
        " # Treinamento da rede neural\n",
        "epochs = 10000\n",
        "losses, accuracies = train_neural_network(x_train, y_train.to_numpy().reshape(-1, 1), input_size, hidden_size, output_size, epochs, learning_rate)"
      ],
      "metadata": {
        "colab": {
          "base_uri": "https://localhost:8080/"
        },
        "id": "Zol5xjILXd2j",
        "outputId": "03cf86d1-fb28-4ab0-e2b0-051f13cbcd2b"
      },
      "execution_count": 16,
      "outputs": [
        {
          "output_type": "stream",
          "name": "stdout",
          "text": [
            "Epoch 0: Loss = 0.05473279302709547\n",
            "Epoch 1000: Loss = 0.016987335175531224\n",
            "Epoch 2000: Loss = 0.01678381836204407\n",
            "Epoch 3000: Loss = 0.016552965802726173\n",
            "Epoch 4000: Loss = 0.016276948498423913\n",
            "Epoch 5000: Loss = 0.016028449785255652\n",
            "Epoch 6000: Loss = 0.015847326781924673\n",
            "Epoch 7000: Loss = 0.015736949893686958\n",
            "Epoch 8000: Loss = 0.01567534875772607\n",
            "Epoch 9000: Loss = 0.01563976805277951\n"
          ]
        }
      ]
    },
    {
      "cell_type": "markdown",
      "source": [
        "# Parte 9 - Gera Previsão"
      ],
      "metadata": {
        "id": "E91jUN-8WYpM"
      }
    },
    {
      "cell_type": "markdown",
      "source": [
        "Após o treinamento, visualizamos a perda e a acurácia da rede:\n",
        "\n",
        "**Gráfico de Desempenho**: Plotamos a perda ao longo do tempo para visualizar o ajuste da rede aos dados de treinamento e avaliar se o modelo está convergindo ou sofrendo overfitting."
      ],
      "metadata": {
        "id": "Lpj6_40sE2WU"
      }
    },
    {
      "cell_type": "code",
      "source": [
        "# Plotar a evolução da perda e da acurácia ao longo das épocas\n",
        "import matplotlib.pyplot as plt\n",
        "\n",
        "dados_plotar = losses[9:20]\n",
        "\n",
        "# Criando o gráfico\n",
        "plt.plot(dados_plotar)\n",
        "plt.xlabel('Índice')\n",
        "plt.ylabel('Valores')\n",
        "plt.title('Gráfico das observações da décima à vigésima')\n",
        "plt.show()\n"
      ],
      "metadata": {
        "colab": {
          "base_uri": "https://localhost:8080/",
          "height": 472
        },
        "id": "WwPEICdkWfDZ",
        "outputId": "0860f946-3601-482f-f835-5adf9c1734c2"
      },
      "execution_count": 17,
      "outputs": [
        {
          "output_type": "display_data",
          "data": {
            "text/plain": [
              "<Figure size 640x480 with 1 Axes>"
            ],
            "image/png": "[encoded data removed]"
          },
          "metadata": {}
        }
      ]
    }
  ]
}